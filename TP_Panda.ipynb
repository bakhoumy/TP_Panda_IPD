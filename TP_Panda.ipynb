{
 "cells": [
  {
   "cell_type": "code",
   "execution_count": 71,
   "id": "6c5876d6-cc1a-45e9-8d18-46e767a65ae4",
   "metadata": {},
   "outputs": [],
   "source": [
    "import pandas as pd\n",
    "\n",
    "# Charger les données depuis le fichier CSV en utilisant Pandas\n",
    "# sep=';' correspond à delimiter=';'\n",
    "\n",
    "data_df = pd.read_csv(\"diabetes.csv\", sep=\";\")"
   ]
  },
  {
   "cell_type": "code",
   "execution_count": 72,
   "id": "6eb83407-b6f5-47ba-90e5-8bbef289a325",
   "metadata": {},
   "outputs": [
    {
     "name": "stdout",
     "output_type": "stream",
     "text": [
      "   Pregnancies  Glucose  BloodPressure  SkinThickness  Insulin   BMI  \\\n",
      "0            6      148             72             35        0  33.6   \n",
      "1            1       85             66             29        0  26.6   \n",
      "2            8      183             64              0        0  23.3   \n",
      "3            1       89             66             23       94  28.1   \n",
      "4            0      137             40             35      168  43.1   \n",
      "\n",
      "   DiabetesPedigreeFunction  Age  Outcome  \n",
      "0                     0.627   50        1  \n",
      "1                     0.351   31        0  \n",
      "2                     0.672   32        1  \n",
      "3                     0.167   21        0  \n",
      "4                     2.288   33        1  \n"
     ]
    }
   ],
   "source": [
    "# Afficher les premières lignes pour vérifier (optionnel)\n",
    "print(data_df.head())"
   ]
  },
  {
   "cell_type": "code",
   "execution_count": 73,
   "id": "6b2dd033-f7af-42df-9f9a-8cc45edde632",
   "metadata": {},
   "outputs": [
    {
     "name": "stdout",
     "output_type": "stream",
     "text": [
      "<class 'pandas.core.frame.DataFrame'>\n",
      "RangeIndex: 768 entries, 0 to 767\n",
      "Data columns (total 9 columns):\n",
      " #   Column                    Non-Null Count  Dtype  \n",
      "---  ------                    --------------  -----  \n",
      " 0   Pregnancies               768 non-null    int64  \n",
      " 1   Glucose                   768 non-null    int64  \n",
      " 2   BloodPressure             768 non-null    int64  \n",
      " 3   SkinThickness             768 non-null    int64  \n",
      " 4   Insulin                   768 non-null    int64  \n",
      " 5   BMI                       768 non-null    float64\n",
      " 6   DiabetesPedigreeFunction  768 non-null    float64\n",
      " 7   Age                       768 non-null    int64  \n",
      " 8   Outcome                   768 non-null    int64  \n",
      "dtypes: float64(2), int64(7)\n",
      "memory usage: 54.1 KB\n",
      "None\n"
     ]
    }
   ],
   "source": [
    "# Afficher les informations sur le DataFrame (types de données, non-nulls) (optionnel)\n",
    "print(data_df.info())"
   ]
  },
  {
   "cell_type": "code",
   "execution_count": 74,
   "id": "f2c8fe5f-c599-4534-9bbe-146850ddffdb",
   "metadata": {},
   "outputs": [
    {
     "data": {
      "text/html": [
       "<div>\n",
       "<style scoped>\n",
       "    .dataframe tbody tr th:only-of-type {\n",
       "        vertical-align: middle;\n",
       "    }\n",
       "\n",
       "    .dataframe tbody tr th {\n",
       "        vertical-align: top;\n",
       "    }\n",
       "\n",
       "    .dataframe thead th {\n",
       "        text-align: right;\n",
       "    }\n",
       "</style>\n",
       "<table border=\"1\" class=\"dataframe\">\n",
       "  <thead>\n",
       "    <tr style=\"text-align: right;\">\n",
       "      <th></th>\n",
       "      <th>Pregnancies</th>\n",
       "      <th>Glucose</th>\n",
       "      <th>BloodPressure</th>\n",
       "      <th>SkinThickness</th>\n",
       "      <th>Insulin</th>\n",
       "      <th>BMI</th>\n",
       "      <th>DiabetesPedigreeFunction</th>\n",
       "      <th>Age</th>\n",
       "      <th>Outcome</th>\n",
       "    </tr>\n",
       "  </thead>\n",
       "  <tbody>\n",
       "    <tr>\n",
       "      <th>0</th>\n",
       "      <td>6</td>\n",
       "      <td>148</td>\n",
       "      <td>72</td>\n",
       "      <td>35</td>\n",
       "      <td>0</td>\n",
       "      <td>33.6</td>\n",
       "      <td>0.627</td>\n",
       "      <td>50</td>\n",
       "      <td>1</td>\n",
       "    </tr>\n",
       "    <tr>\n",
       "      <th>1</th>\n",
       "      <td>1</td>\n",
       "      <td>85</td>\n",
       "      <td>66</td>\n",
       "      <td>29</td>\n",
       "      <td>0</td>\n",
       "      <td>26.6</td>\n",
       "      <td>0.351</td>\n",
       "      <td>31</td>\n",
       "      <td>0</td>\n",
       "    </tr>\n",
       "    <tr>\n",
       "      <th>2</th>\n",
       "      <td>8</td>\n",
       "      <td>183</td>\n",
       "      <td>64</td>\n",
       "      <td>0</td>\n",
       "      <td>0</td>\n",
       "      <td>23.3</td>\n",
       "      <td>0.672</td>\n",
       "      <td>32</td>\n",
       "      <td>1</td>\n",
       "    </tr>\n",
       "    <tr>\n",
       "      <th>3</th>\n",
       "      <td>1</td>\n",
       "      <td>89</td>\n",
       "      <td>66</td>\n",
       "      <td>23</td>\n",
       "      <td>94</td>\n",
       "      <td>28.1</td>\n",
       "      <td>0.167</td>\n",
       "      <td>21</td>\n",
       "      <td>0</td>\n",
       "    </tr>\n",
       "    <tr>\n",
       "      <th>4</th>\n",
       "      <td>0</td>\n",
       "      <td>137</td>\n",
       "      <td>40</td>\n",
       "      <td>35</td>\n",
       "      <td>168</td>\n",
       "      <td>43.1</td>\n",
       "      <td>2.288</td>\n",
       "      <td>33</td>\n",
       "      <td>1</td>\n",
       "    </tr>\n",
       "    <tr>\n",
       "      <th>...</th>\n",
       "      <td>...</td>\n",
       "      <td>...</td>\n",
       "      <td>...</td>\n",
       "      <td>...</td>\n",
       "      <td>...</td>\n",
       "      <td>...</td>\n",
       "      <td>...</td>\n",
       "      <td>...</td>\n",
       "      <td>...</td>\n",
       "    </tr>\n",
       "    <tr>\n",
       "      <th>763</th>\n",
       "      <td>10</td>\n",
       "      <td>101</td>\n",
       "      <td>76</td>\n",
       "      <td>48</td>\n",
       "      <td>180</td>\n",
       "      <td>32.9</td>\n",
       "      <td>0.171</td>\n",
       "      <td>63</td>\n",
       "      <td>0</td>\n",
       "    </tr>\n",
       "    <tr>\n",
       "      <th>764</th>\n",
       "      <td>2</td>\n",
       "      <td>122</td>\n",
       "      <td>70</td>\n",
       "      <td>27</td>\n",
       "      <td>0</td>\n",
       "      <td>36.8</td>\n",
       "      <td>0.340</td>\n",
       "      <td>27</td>\n",
       "      <td>0</td>\n",
       "    </tr>\n",
       "    <tr>\n",
       "      <th>765</th>\n",
       "      <td>5</td>\n",
       "      <td>121</td>\n",
       "      <td>72</td>\n",
       "      <td>23</td>\n",
       "      <td>112</td>\n",
       "      <td>26.2</td>\n",
       "      <td>0.245</td>\n",
       "      <td>30</td>\n",
       "      <td>0</td>\n",
       "    </tr>\n",
       "    <tr>\n",
       "      <th>766</th>\n",
       "      <td>1</td>\n",
       "      <td>126</td>\n",
       "      <td>60</td>\n",
       "      <td>0</td>\n",
       "      <td>0</td>\n",
       "      <td>30.1</td>\n",
       "      <td>0.349</td>\n",
       "      <td>47</td>\n",
       "      <td>1</td>\n",
       "    </tr>\n",
       "    <tr>\n",
       "      <th>767</th>\n",
       "      <td>1</td>\n",
       "      <td>93</td>\n",
       "      <td>70</td>\n",
       "      <td>31</td>\n",
       "      <td>0</td>\n",
       "      <td>30.4</td>\n",
       "      <td>0.315</td>\n",
       "      <td>23</td>\n",
       "      <td>0</td>\n",
       "    </tr>\n",
       "  </tbody>\n",
       "</table>\n",
       "<p>768 rows × 9 columns</p>\n",
       "</div>"
      ],
      "text/plain": [
       "     Pregnancies  Glucose  BloodPressure  SkinThickness  Insulin   BMI  \\\n",
       "0              6      148             72             35        0  33.6   \n",
       "1              1       85             66             29        0  26.6   \n",
       "2              8      183             64              0        0  23.3   \n",
       "3              1       89             66             23       94  28.1   \n",
       "4              0      137             40             35      168  43.1   \n",
       "..           ...      ...            ...            ...      ...   ...   \n",
       "763           10      101             76             48      180  32.9   \n",
       "764            2      122             70             27        0  36.8   \n",
       "765            5      121             72             23      112  26.2   \n",
       "766            1      126             60              0        0  30.1   \n",
       "767            1       93             70             31        0  30.4   \n",
       "\n",
       "     DiabetesPedigreeFunction  Age  Outcome  \n",
       "0                       0.627   50        1  \n",
       "1                       0.351   31        0  \n",
       "2                       0.672   32        1  \n",
       "3                       0.167   21        0  \n",
       "4                       2.288   33        1  \n",
       "..                        ...  ...      ...  \n",
       "763                     0.171   63        0  \n",
       "764                     0.340   27        0  \n",
       "765                     0.245   30        0  \n",
       "766                     0.349   47        1  \n",
       "767                     0.315   23        0  \n",
       "\n",
       "[768 rows x 9 columns]"
      ]
     },
     "execution_count": 74,
     "metadata": {},
     "output_type": "execute_result"
    }
   ],
   "source": [
    "data_df"
   ]
  },
  {
   "cell_type": "code",
   "execution_count": 75,
   "id": "f630ac3e-9118-48ad-b297-ec508a399166",
   "metadata": {},
   "outputs": [
    {
     "data": {
      "text/plain": [
       "(768, 9)"
      ]
     },
     "execution_count": 75,
     "metadata": {},
     "output_type": "execute_result"
    }
   ],
   "source": [
    "data_df.shape"
   ]
  },
  {
   "cell_type": "code",
   "execution_count": 76,
   "id": "25adaa44-b44e-48f8-a853-269eb98c8496",
   "metadata": {},
   "outputs": [],
   "source": [
    "# Assumant que 'data_df' est le DataFrame créé dans la cellule précédente\n",
    "\n",
    "# Sélectionner les colonnes en utilisant l'indexation basée sur la position entière (.iloc)\n",
    "# : signifie \"toutes les lignes\"\n",
    "# :8 signifie \"colonnes depuis l'index 0 jusqu'à (mais non inclus) l'index 8\"\n",
    "features_df = data_df.iloc[:, :8]"
   ]
  },
  {
   "cell_type": "code",
   "execution_count": 77,
   "id": "4f281e9b-b699-4924-9af6-33f8ead0ad5b",
   "metadata": {},
   "outputs": [
    {
     "name": "stdout",
     "output_type": "stream",
     "text": [
      "   Pregnancies  Glucose  BloodPressure  SkinThickness  Insulin   BMI  \\\n",
      "0            6      148             72             35        0  33.6   \n",
      "1            1       85             66             29        0  26.6   \n",
      "2            8      183             64              0        0  23.3   \n",
      "3            1       89             66             23       94  28.1   \n",
      "4            0      137             40             35      168  43.1   \n",
      "\n",
      "   DiabetesPedigreeFunction  Age  \n",
      "0                     0.627   50  \n",
      "1                     0.351   31  \n",
      "2                     0.672   32  \n",
      "3                     0.167   21  \n",
      "4                     2.288   33  \n"
     ]
    }
   ],
   "source": [
    "# Afficher les premières lignes du nouveau DataFrame (optionnel)\n",
    "print(features_df.head())"
   ]
  },
  {
   "cell_type": "code",
   "execution_count": 78,
   "id": "946261d7-c6e9-4552-9268-580145d9ce44",
   "metadata": {},
   "outputs": [
    {
     "name": "stdout",
     "output_type": "stream",
     "text": [
      "<class 'pandas.core.frame.DataFrame'>\n",
      "RangeIndex: 768 entries, 0 to 767\n",
      "Data columns (total 8 columns):\n",
      " #   Column                    Non-Null Count  Dtype  \n",
      "---  ------                    --------------  -----  \n",
      " 0   Pregnancies               768 non-null    int64  \n",
      " 1   Glucose                   768 non-null    int64  \n",
      " 2   BloodPressure             768 non-null    int64  \n",
      " 3   SkinThickness             768 non-null    int64  \n",
      " 4   Insulin                   768 non-null    int64  \n",
      " 5   BMI                       768 non-null    float64\n",
      " 6   DiabetesPedigreeFunction  768 non-null    float64\n",
      " 7   Age                       768 non-null    int64  \n",
      "dtypes: float64(2), int64(6)\n",
      "memory usage: 48.1 KB\n",
      "None\n"
     ]
    }
   ],
   "source": [
    "# Afficher les informations sur le DataFrame des features (optionnel)\n",
    "print(features_df.info())"
   ]
  },
  {
   "cell_type": "code",
   "execution_count": 79,
   "id": "8ba01a39-0f57-4ddc-9ee1-34aa48fb7176",
   "metadata": {},
   "outputs": [
    {
     "data": {
      "text/plain": [
       "(768, 8)"
      ]
     },
     "execution_count": 79,
     "metadata": {},
     "output_type": "execute_result"
    }
   ],
   "source": [
    "features_df.shape"
   ]
  },
  {
   "cell_type": "code",
   "execution_count": 80,
   "id": "c6fdaf55-3679-4310-abd9-eb28d25cacb2",
   "metadata": {},
   "outputs": [],
   "source": [
    "# Assumant que 'data_df' est le DataFrame créé précédemment\n",
    "\n",
    "# Sélectionner la colonne à l'index 8 en utilisant .iloc\n",
    "# : signifie \"toutes les lignes\"\n",
    "# 8 signifie \"colonne à l'index 8\"\n",
    "target_series = data_df.iloc[:, 8]"
   ]
  },
  {
   "cell_type": "code",
   "execution_count": 81,
   "id": "b16ed27e-94c6-474b-8330-d99fbf1b9159",
   "metadata": {},
   "outputs": [
    {
     "name": "stdout",
     "output_type": "stream",
     "text": [
      "0    1\n",
      "1    0\n",
      "2    1\n",
      "3    0\n",
      "4    1\n",
      "Name: Outcome, dtype: int64\n"
     ]
    }
   ],
   "source": [
    "# Afficher les premières valeurs de la Series (optionnel)\n",
    "print(target_series.head())"
   ]
  },
  {
   "cell_type": "code",
   "execution_count": 82,
   "id": "cda57192-13fa-426f-88b1-ec21fba2a85b",
   "metadata": {},
   "outputs": [
    {
     "name": "stdout",
     "output_type": "stream",
     "text": [
      "<class 'pandas.core.series.Series'>\n"
     ]
    }
   ],
   "source": [
    "# Afficher le type pour confirmer (optionnel)\n",
    "print(type(target_series))"
   ]
  },
  {
   "cell_type": "code",
   "execution_count": 83,
   "id": "b6b97a99-f7a3-4f89-b69e-382bbaecffa6",
   "metadata": {},
   "outputs": [
    {
     "name": "stdout",
     "output_type": "stream",
     "text": [
      "Outcome\n"
     ]
    }
   ],
   "source": [
    "# Afficher le nom de la colonne (si lu depuis l'en-tête) (optionnel)\n",
    "print(target_series.name)"
   ]
  },
  {
   "cell_type": "code",
   "execution_count": 84,
   "id": "99e54f37-e0d3-42a4-82c0-c730e7bcc3c5",
   "metadata": {},
   "outputs": [
    {
     "data": {
      "text/plain": [
       "(768,)"
      ]
     },
     "execution_count": 84,
     "metadata": {},
     "output_type": "execute_result"
    }
   ],
   "source": [
    "target_series.shape"
   ]
  },
  {
   "cell_type": "code",
   "execution_count": 85,
   "id": "b6eff0dd-a0d8-4ae3-9d50-87be05a943cb",
   "metadata": {},
   "outputs": [],
   "source": [
    "# Assumant que 'features_df' est le DataFrame contenant les features\n",
    "\n",
    "# Calculer la moyenne de chaque colonne dans le DataFrame features_df\n",
    "# L'axe 0 (par défaut pour la plupart des méthodes de DataFrame comme .mean())\n",
    "# signifie calculer la statistique pour chaque colonne (en agrégeant sur les lignes).\n",
    "moyfeat_series = features_df.mean(axis=0)"
   ]
  },
  {
   "cell_type": "code",
   "execution_count": 86,
   "id": "18f64f15-df18-47ee-a411-a058a9600b50",
   "metadata": {},
   "outputs": [
    {
     "name": "stdout",
     "output_type": "stream",
     "text": [
      "Pregnancies                   3.845052\n",
      "Glucose                     120.894531\n",
      "BloodPressure                69.105469\n",
      "SkinThickness                20.536458\n",
      "Insulin                      79.799479\n",
      "BMI                          31.992578\n",
      "DiabetesPedigreeFunction      0.471876\n",
      "Age                          33.240885\n",
      "dtype: float64\n"
     ]
    }
   ],
   "source": [
    "# Afficher la Series résultante (index = noms de colonnes, valeurs = moyennes)\n",
    "print(moyfeat_series)"
   ]
  },
  {
   "cell_type": "code",
   "execution_count": 87,
   "id": "197d238d-ba94-4ea7-9ad0-4ce7e0b0e8f7",
   "metadata": {},
   "outputs": [
    {
     "name": "stdout",
     "output_type": "stream",
     "text": [
      "<class 'pandas.core.series.Series'>\n"
     ]
    }
   ],
   "source": [
    "# Afficher le type pour confirmer (optionnel)\n",
    "print(type(moyfeat_series))"
   ]
  },
  {
   "cell_type": "code",
   "execution_count": 88,
   "id": "0bf53cdf-461a-4b73-bd33-22540a19e3cb",
   "metadata": {},
   "outputs": [],
   "source": [
    "# Assumant que 'features_df' est le DataFrame contenant les features\n",
    "\n",
    "# Calculer l'écart-type de chaque colonne dans le DataFrame features_df\n",
    "# L'axe 0 (par défaut pour .std()) signifie calculer la statistique pour chaque colonne.\n",
    "ecartfeat_series = features_df.std(axis=0)"
   ]
  },
  {
   "cell_type": "code",
   "execution_count": 89,
   "id": "fd2c6ddf-a4a3-4245-adcf-4b04118acceb",
   "metadata": {},
   "outputs": [
    {
     "name": "stdout",
     "output_type": "stream",
     "text": [
      "Pregnancies                   3.369578\n",
      "Glucose                      31.972618\n",
      "BloodPressure                19.355807\n",
      "SkinThickness                15.952218\n",
      "Insulin                     115.244002\n",
      "BMI                           7.884160\n",
      "DiabetesPedigreeFunction      0.331329\n",
      "Age                          11.760232\n",
      "dtype: float64\n"
     ]
    }
   ],
   "source": [
    "# Afficher la Series résultante (index = noms de colonnes, valeurs = écarts-types)\n",
    "print(ecartfeat_series)"
   ]
  },
  {
   "cell_type": "code",
   "execution_count": 90,
   "id": "cdffdbf6-d641-4453-bb10-8d5b86b751b3",
   "metadata": {},
   "outputs": [
    {
     "name": "stdout",
     "output_type": "stream",
     "text": [
      "<class 'pandas.core.series.Series'>\n"
     ]
    }
   ],
   "source": [
    "# Afficher le type pour confirmer (optionnel)\n",
    "print(type(ecartfeat_series))"
   ]
  },
  {
   "cell_type": "code",
   "execution_count": 91,
   "id": "ce784dff-1d2d-43bf-829b-3089fb984c7d",
   "metadata": {},
   "outputs": [],
   "source": [
    "# Assumant que 'features_df' est le DataFrame contenant les features\n",
    "\n",
    "# Calculer la valeur minimale de chaque colonne dans le DataFrame features_df\n",
    "# L'axe 0 (par défaut pour .min()) signifie calculer la statistique pour chaque colonne.\n",
    "minfeat_series = features_df.min(axis=0)"
   ]
  },
  {
   "cell_type": "code",
   "execution_count": 92,
   "id": "2986857a-721c-4927-b411-66c0f08b80f0",
   "metadata": {},
   "outputs": [
    {
     "name": "stdout",
     "output_type": "stream",
     "text": [
      "Pregnancies                  0.000\n",
      "Glucose                      0.000\n",
      "BloodPressure                0.000\n",
      "SkinThickness                0.000\n",
      "Insulin                      0.000\n",
      "BMI                          0.000\n",
      "DiabetesPedigreeFunction     0.078\n",
      "Age                         21.000\n",
      "dtype: float64\n"
     ]
    }
   ],
   "source": [
    "# Afficher la Series résultante (index = noms de colonnes, valeurs = minimums)\n",
    "print(minfeat_series)"
   ]
  },
  {
   "cell_type": "code",
   "execution_count": 93,
   "id": "a40a79a6-aaaf-49c9-aa98-31f230144b3f",
   "metadata": {},
   "outputs": [
    {
     "name": "stdout",
     "output_type": "stream",
     "text": [
      "<class 'pandas.core.series.Series'>\n"
     ]
    }
   ],
   "source": [
    "# Afficher le type pour confirmer (optionnel)\n",
    "print(type(minfeat_series))"
   ]
  },
  {
   "cell_type": "code",
   "execution_count": 94,
   "id": "8e0a70fa-d2e8-4798-951b-d41c8dcd3704",
   "metadata": {},
   "outputs": [],
   "source": [
    "# Assumant que 'features_df' est le DataFrame contenant les features\n",
    "\n",
    "# Calculer la valeur maximale de chaque colonne dans le DataFrame features_df\n",
    "# L'axe 0 (par défaut pour .max()) signifie calculer la statistique pour chaque colonne.\n",
    "maxfeat_series = features_df.max(axis=0)"
   ]
  },
  {
   "cell_type": "code",
   "execution_count": 95,
   "id": "2381fa0e-ade2-4767-9f4b-9b2caec991cf",
   "metadata": {},
   "outputs": [
    {
     "name": "stdout",
     "output_type": "stream",
     "text": [
      "Pregnancies                  17.00\n",
      "Glucose                     199.00\n",
      "BloodPressure               122.00\n",
      "SkinThickness                99.00\n",
      "Insulin                     846.00\n",
      "BMI                          67.10\n",
      "DiabetesPedigreeFunction      2.42\n",
      "Age                          81.00\n",
      "dtype: float64\n"
     ]
    }
   ],
   "source": [
    "# Afficher la Series résultante (index = noms de colonnes, valeurs = maximums)\n",
    "print(maxfeat_series)"
   ]
  },
  {
   "cell_type": "code",
   "execution_count": 96,
   "id": "0e12c06f-4815-4bd8-9ce9-f55bdaab20c1",
   "metadata": {},
   "outputs": [
    {
     "name": "stdout",
     "output_type": "stream",
     "text": [
      "<class 'pandas.core.series.Series'>\n"
     ]
    }
   ],
   "source": [
    "# Afficher le type pour confirmer (optionnel)\n",
    "print(type(maxfeat_series))"
   ]
  },
  {
   "cell_type": "code",
   "execution_count": 97,
   "id": "fd0ab93d-7cbd-4759-a662-bf16a20a2a6f",
   "metadata": {},
   "outputs": [],
   "source": [
    "# Assumant que 'features_df', 'moyfeat_series', et 'ecartfeat_series' existent\n",
    "\n",
    "# Calculer les features normalisées (standardisation Z-score)\n",
    "# Pandas aligne automatiquement les colonnes du DataFrame avec l'index des Series\n",
    "# lors des opérations arithmétiques (+, -, *, /).\n",
    "features_norm_df = (features_df - moyfeat_series) / ecartfeat_series"
   ]
  },
  {
   "cell_type": "code",
   "execution_count": 98,
   "id": "ab4741cf-8b6c-4c2d-af3b-f3354dc0c03c",
   "metadata": {},
   "outputs": [
    {
     "name": "stdout",
     "output_type": "stream",
     "text": [
      "<class 'pandas.core.frame.DataFrame'>\n",
      "RangeIndex: 768 entries, 0 to 767\n",
      "Data columns (total 8 columns):\n",
      " #   Column                    Non-Null Count  Dtype  \n",
      "---  ------                    --------------  -----  \n",
      " 0   Pregnancies               768 non-null    float64\n",
      " 1   Glucose                   768 non-null    float64\n",
      " 2   BloodPressure             768 non-null    float64\n",
      " 3   SkinThickness             768 non-null    float64\n",
      " 4   Insulin                   768 non-null    float64\n",
      " 5   BMI                       768 non-null    float64\n",
      " 6   DiabetesPedigreeFunction  768 non-null    float64\n",
      " 7   Age                       768 non-null    float64\n",
      "dtypes: float64(8)\n",
      "memory usage: 48.1 KB\n",
      "None\n"
     ]
    }
   ],
   "source": [
    "# Afficher les informations sur le DataFrame normalisé (optionnel)\n",
    "print(features_norm_df.info())"
   ]
  },
  {
   "cell_type": "code",
   "execution_count": 99,
   "id": "49e00a0f-429e-4066-b3c2-72d6fd5966c1",
   "metadata": {},
   "outputs": [
    {
     "name": "stdout",
     "output_type": "stream",
     "text": [
      "\n",
      "Moyennes des features normalisées (proches de 0 attendues) :\n",
      "Pregnancies                -6.938894e-17\n",
      "Glucose                    -1.156482e-17\n",
      "BloodPressure               1.272131e-17\n",
      "SkinThickness               9.367507e-17\n",
      "Insulin                    -1.676899e-17\n",
      "BMI                         2.613650e-16\n",
      "DiabetesPedigreeFunction    2.359224e-16\n",
      "Age                         2.104798e-16\n",
      "dtype: float64\n",
      "\n",
      "Écarts-types des features normalisées (proches de 1 attendus) :\n",
      "Pregnancies                 1.0\n",
      "Glucose                     1.0\n",
      "BloodPressure               1.0\n",
      "SkinThickness               1.0\n",
      "Insulin                     1.0\n",
      "BMI                         1.0\n",
      "DiabetesPedigreeFunction    1.0\n",
      "Age                         1.0\n",
      "dtype: float64\n"
     ]
    }
   ],
   "source": [
    "# Vérifier que les moyennes sont proches de 0 et les écarts-types proches de 1 (optionnel)\n",
    "print(\"\\nMoyennes des features normalisées (proches de 0 attendues) :\")\n",
    "print(features_norm_df.mean(axis=0))\n",
    "print(\"\\nÉcarts-types des features normalisées (proches de 1 attendus) :\")\n",
    "print(features_norm_df.std(axis=0)) # Note: si ecartfeat_series utilisait ddof=0, utiliser ddof=0 ici aussi pour la vérification."
   ]
  },
  {
   "cell_type": "code",
   "execution_count": 100,
   "id": "0b12eea3-57b1-4f84-871c-d6a884c81b1b",
   "metadata": {},
   "outputs": [
    {
     "name": "stdout",
     "output_type": "stream",
     "text": [
      "   Pregnancies   Glucose  BloodPressure  SkinThickness   Insulin       BMI  \\\n",
      "0     0.639530  0.847771       0.149543       0.906679 -0.692439  0.203880   \n",
      "1    -0.844335 -1.122665      -0.160441       0.530556 -0.692439 -0.683976   \n",
      "2     1.233077  1.942458      -0.263769      -1.287373 -0.692439 -1.102537   \n",
      "3    -0.844335 -0.997558      -0.160441       0.154433  0.123221 -0.493721   \n",
      "4    -1.141108  0.503727      -1.503707       0.906679  0.765337  1.408828   \n",
      "\n",
      "   DiabetesPedigreeFunction       Age  \n",
      "0                  0.468187  1.425067  \n",
      "1                 -0.364823 -0.190548  \n",
      "2                  0.604004 -0.105515  \n",
      "3                 -0.920163 -1.040871  \n",
      "4                  5.481337 -0.020483  \n"
     ]
    }
   ],
   "source": [
    "# Afficher les 5 premières lignes en utilisant .iloc pour l'indexation positionnelle\n",
    "print(features_norm_df.iloc[:5])"
   ]
  },
  {
   "cell_type": "code",
   "execution_count": 101,
   "id": "bfd583d7-275e-4993-a0a3-bb9262da304c",
   "metadata": {},
   "outputs": [
    {
     "name": "stdout",
     "output_type": "stream",
     "text": [
      "Le nom de la colonne à l'index 1 est : 'Glucose'\n"
     ]
    }
   ],
   "source": [
    "# Assumant que 'data_df' est le DataFrame original chargé depuis diabetes.csv\n",
    "\n",
    "# 1. Vérifier le nom de la colonne à l'index 1 (la deuxième colonne)\n",
    "column_name_at_index_1 = data_df.columns[1]\n",
    "print(f\"Le nom de la colonne à l'index 1 est : '{column_name_at_index_1}'\") # Ex: 'Glucose'"
   ]
  },
  {
   "cell_type": "code",
   "execution_count": 102,
   "id": "53b957f1-0304-47fd-b5ff-f29c133f38bc",
   "metadata": {},
   "outputs": [],
   "source": [
    "# 2. Créer le masque booléen en utilisant le nom de la colonne\n",
    "glucosemask_series = data_df[column_name_at_index_1] > 125"
   ]
  },
  {
   "cell_type": "code",
   "execution_count": 103,
   "id": "71cd46cc-5f0a-4541-ab9b-6b2af1e29087",
   "metadata": {},
   "outputs": [
    {
     "name": "stdout",
     "output_type": "stream",
     "text": [
      "0       True\n",
      "1      False\n",
      "2       True\n",
      "3      False\n",
      "4       True\n",
      "       ...  \n",
      "763    False\n",
      "764    False\n",
      "765    False\n",
      "766     True\n",
      "767    False\n",
      "Name: Glucose, Length: 768, dtype: bool\n"
     ]
    }
   ],
   "source": [
    "# Afficher la Series booléenne résultante\n",
    "print(glucosemask_series)"
   ]
  },
  {
   "cell_type": "code",
   "execution_count": 104,
   "id": "b478a6ae-23a5-4ddc-a37a-96abcf4e5227",
   "metadata": {},
   "outputs": [
    {
     "name": "stdout",
     "output_type": "stream",
     "text": [
      "\n",
      "Premières lignes du masque booléen:\n",
      "0     True\n",
      "1    False\n",
      "2     True\n",
      "3    False\n",
      "4     True\n",
      "Name: Glucose, dtype: bool\n"
     ]
    }
   ],
   "source": [
    "# Afficher les premières lignes pour voir le format (optionnel)\n",
    "print(\"\\nPremières lignes du masque booléen:\")\n",
    "print(glucosemask_series.head())"
   ]
  },
  {
   "cell_type": "code",
   "execution_count": 105,
   "id": "2b489f1c-ad9d-4ace-8ca1-44722043676f",
   "metadata": {},
   "outputs": [
    {
     "name": "stdout",
     "output_type": "stream",
     "text": [
      "\n",
      "Type de l'objet résultant: <class 'pandas.core.series.Series'>\n"
     ]
    }
   ],
   "source": [
    "# Afficher le type pour confirmer (c'est une Series Pandas) (optionnel)\n",
    "print(f\"\\nType de l'objet résultant: {type(glucosemask_series)}\")"
   ]
  },
  {
   "cell_type": "code",
   "execution_count": 106,
   "id": "faea3ad8-ebd2-4daf-9e38-d3a4192784db",
   "metadata": {},
   "outputs": [
    {
     "name": "stdout",
     "output_type": "stream",
     "text": [
      "\n",
      "Nombre de True et False dans le masque:\n",
      "Glucose\n",
      "False    471\n",
      "True     297\n",
      "Name: count, dtype: int64\n"
     ]
    }
   ],
   "source": [
    "# Afficher combien de valeurs sont True et False (optionnel)\n",
    "print(\"\\nNombre de True et False dans le masque:\")\n",
    "print(glucosemask_series.value_counts())"
   ]
  },
  {
   "cell_type": "code",
   "execution_count": 107,
   "id": "3b773b4d-22e3-4573-b562-611b61b6bada",
   "metadata": {},
   "outputs": [],
   "source": [
    "# Assumant que 'data_df' est le DataFrame original et\n",
    "# 'glucosemask_series' est la Series booléenne créée à l'étape précédente\n",
    "# (contenant True pour les lignes où la colonne Glucose > 125)\n",
    "\n",
    "# Appliquer le masque booléen au DataFrame original pour sélectionner les lignes correspondantes\n",
    "glucosesupa125_df = data_df[glucosemask_series]"
   ]
  },
  {
   "cell_type": "code",
   "execution_count": 108,
   "id": "e65ac42f-c257-4cd3-9ebe-151a6a2a6f2d",
   "metadata": {},
   "outputs": [
    {
     "name": "stdout",
     "output_type": "stream",
     "text": [
      "    Pregnancies  Glucose  BloodPressure  SkinThickness  Insulin   BMI  \\\n",
      "0             6      148             72             35        0  33.6   \n",
      "2             8      183             64              0        0  23.3   \n",
      "4             0      137             40             35      168  43.1   \n",
      "8             2      197             70             45      543  30.5   \n",
      "11           10      168             74              0        0  38.0   \n",
      "\n",
      "    DiabetesPedigreeFunction  Age  Outcome  \n",
      "0                      0.627   50        1  \n",
      "2                      0.672   32        1  \n",
      "4                      2.288   33        1  \n",
      "8                      0.158   53        1  \n",
      "11                     0.537   34        1  \n"
     ]
    }
   ],
   "source": [
    "# Afficher les premières lignes du DataFrame filtré (optionnel)\n",
    "print(glucosesupa125_df.head())"
   ]
  },
  {
   "cell_type": "code",
   "execution_count": 109,
   "id": "215d02d6-752d-4f35-b4be-5c92412b92e4",
   "metadata": {},
   "outputs": [
    {
     "name": "stdout",
     "output_type": "stream",
     "text": [
      "\n",
      "Dimensions du DataFrame filtré : (297, 9)\n"
     ]
    }
   ],
   "source": [
    "# Afficher les dimensions du DataFrame filtré (nombre de lignes, nombre de colonnes) (optionnel)\n",
    "print(f\"\\nDimensions du DataFrame filtré : {glucosesupa125_df.shape}\")"
   ]
  },
  {
   "cell_type": "code",
   "execution_count": 110,
   "id": "d3b6cda3-6845-46fd-beb8-742bc0df404e",
   "metadata": {},
   "outputs": [
    {
     "name": "stdout",
     "output_type": "stream",
     "text": [
      "\n",
      "Informations sur le DataFrame filtré:\n",
      "<class 'pandas.core.frame.DataFrame'>\n",
      "Index: 297 entries, 0 to 766\n",
      "Data columns (total 9 columns):\n",
      " #   Column                    Non-Null Count  Dtype  \n",
      "---  ------                    --------------  -----  \n",
      " 0   Pregnancies               297 non-null    int64  \n",
      " 1   Glucose                   297 non-null    int64  \n",
      " 2   BloodPressure             297 non-null    int64  \n",
      " 3   SkinThickness             297 non-null    int64  \n",
      " 4   Insulin                   297 non-null    int64  \n",
      " 5   BMI                       297 non-null    float64\n",
      " 6   DiabetesPedigreeFunction  297 non-null    float64\n",
      " 7   Age                       297 non-null    int64  \n",
      " 8   Outcome                   297 non-null    int64  \n",
      "dtypes: float64(2), int64(7)\n",
      "memory usage: 23.2 KB\n",
      "None\n"
     ]
    }
   ],
   "source": [
    "# Afficher les informations sur le DataFrame filtré (optionnel)\n",
    "print(\"\\nInformations sur le DataFrame filtré:\")\n",
    "print(glucosesupa125_df.info())"
   ]
  },
  {
   "cell_type": "code",
   "execution_count": 111,
   "id": "549e1ecb-32c0-477f-b669-1843d9b02428",
   "metadata": {},
   "outputs": [
    {
     "name": "stdout",
     "output_type": "stream",
     "text": [
      "Le nom de la colonne à l'index 5 est : 'BMI'\n"
     ]
    }
   ],
   "source": [
    "# Assumant que 'data_df' est le DataFrame original\n",
    "\n",
    "# 1. Vérifier le nom de la colonne à l'index 5 (la sixième colonne)\n",
    "column_name_at_index_5 = data_df.columns[5]\n",
    "print(f\"Le nom de la colonne à l'index 5 est : '{column_name_at_index_5}'\") # Ex: 'BMI'"
   ]
  },
  {
   "cell_type": "code",
   "execution_count": 112,
   "id": "a4ef664f-7f65-4dae-b011-64625d9cf156",
   "metadata": {},
   "outputs": [],
   "source": [
    "# 2. Créer le masque booléen en utilisant le nom de la colonne\n",
    "bmimask_series = data_df[column_name_at_index_5] > 30"
   ]
  },
  {
   "cell_type": "code",
   "execution_count": 113,
   "id": "8ef530e1-1629-42d4-a868-870beeaacde0",
   "metadata": {},
   "outputs": [
    {
     "name": "stdout",
     "output_type": "stream",
     "text": [
      "0       True\n",
      "1      False\n",
      "2      False\n",
      "3      False\n",
      "4       True\n",
      "       ...  \n",
      "763     True\n",
      "764     True\n",
      "765    False\n",
      "766     True\n",
      "767     True\n",
      "Name: BMI, Length: 768, dtype: bool\n"
     ]
    }
   ],
   "source": [
    "# Afficher la Series booléenne résultante\n",
    "print(bmimask_series)"
   ]
  },
  {
   "cell_type": "code",
   "execution_count": 114,
   "id": "1c0e1fd9-b15d-45e0-ae23-e52c78eb85e0",
   "metadata": {},
   "outputs": [
    {
     "name": "stdout",
     "output_type": "stream",
     "text": [
      "\n",
      "Premières lignes du masque BMI:\n",
      "0     True\n",
      "1    False\n",
      "2    False\n",
      "3    False\n",
      "4     True\n",
      "Name: BMI, dtype: bool\n"
     ]
    }
   ],
   "source": [
    "# Afficher les premières lignes (optionnel)\n",
    "print(\"\\nPremières lignes du masque BMI:\")\n",
    "print(bmimask_series.head())"
   ]
  },
  {
   "cell_type": "code",
   "execution_count": 115,
   "id": "69d354cc-abc1-4c49-a325-40eff93b461f",
   "metadata": {},
   "outputs": [
    {
     "name": "stdout",
     "output_type": "stream",
     "text": [
      "\n",
      "Type de l'objet résultant: <class 'pandas.core.series.Series'>\n"
     ]
    }
   ],
   "source": [
    "# Afficher le type (c'est une Series Pandas) (optionnel)\n",
    "print(f\"\\nType de l'objet résultant: {type(bmimask_series)}\")"
   ]
  },
  {
   "cell_type": "code",
   "execution_count": 116,
   "id": "96f39105-e866-4264-87db-e1bb4137cffa",
   "metadata": {},
   "outputs": [
    {
     "name": "stdout",
     "output_type": "stream",
     "text": [
      "\n",
      "Nombre de True et False dans le masque BMI:\n",
      "BMI\n",
      "True     465\n",
      "False    303\n",
      "Name: count, dtype: int64\n"
     ]
    }
   ],
   "source": [
    "# Afficher combien de valeurs sont True et False (optionnel)\n",
    "print(\"\\nNombre de True et False dans le masque BMI:\")\n",
    "print(bmimask_series.value_counts())"
   ]
  },
  {
   "cell_type": "code",
   "execution_count": 117,
   "id": "0e52e499-9d04-4aa9-81db-87a77dca8b3d",
   "metadata": {},
   "outputs": [],
   "source": [
    "# Assumant que 'data_df' est le DataFrame original, et que\n",
    "# 'glucosemask_series' (Glucose > 125) et 'bmimask_series' (BMI > 30)\n",
    "# sont les Series booléennes créées précédemment.\n",
    "\n",
    "# Combiner les deux masques avec un ET logique (&)\n",
    "# Pandas effectue une opération ET élément par élément, alignée sur l'index.\n",
    "combined_mask = glucosemask_series & bmimask_series"
   ]
  },
  {
   "cell_type": "code",
   "execution_count": 118,
   "id": "2bb3f91a-9160-4025-82ce-32379c9d22ea",
   "metadata": {},
   "outputs": [],
   "source": [
    "# Appliquer le masque combiné au DataFrame original pour filtrer les lignes\n",
    "glucosesupa125etBMIsupa30_df = data_df[combined_mask]"
   ]
  },
  {
   "cell_type": "code",
   "execution_count": 119,
   "id": "67946fdb-20dd-4d2f-ab1e-9e25060a5789",
   "metadata": {},
   "outputs": [
    {
     "name": "stdout",
     "output_type": "stream",
     "text": [
      "    Pregnancies  Glucose  BloodPressure  SkinThickness  Insulin   BMI  \\\n",
      "0             6      148             72             35        0  33.6   \n",
      "4             0      137             40             35      168  43.1   \n",
      "8             2      197             70             45      543  30.5   \n",
      "11           10      168             74              0        0  38.0   \n",
      "13            1      189             60             23      846  30.1   \n",
      "\n",
      "    DiabetesPedigreeFunction  Age  Outcome  \n",
      "0                      0.627   50        1  \n",
      "4                      2.288   33        1  \n",
      "8                      0.158   53        1  \n",
      "11                     0.537   34        1  \n",
      "13                     0.398   59        1  \n"
     ]
    }
   ],
   "source": [
    "# Afficher les premières lignes du DataFrame filtré (optionnel)\n",
    "print(glucosesupa125etBMIsupa30_df.head())"
   ]
  },
  {
   "cell_type": "code",
   "execution_count": 120,
   "id": "de9e4248-fb0b-4cf4-a53c-fff17209e903",
   "metadata": {},
   "outputs": [
    {
     "name": "stdout",
     "output_type": "stream",
     "text": [
      "\n",
      "Dimensions du DataFrame filtré (Glucose > 125 ET BMI > 30) : (214, 9)\n"
     ]
    }
   ],
   "source": [
    "# Afficher les dimensions du DataFrame filtré (optionnel)\n",
    "print(f\"\\nDimensions du DataFrame filtré (Glucose > 125 ET BMI > 30) : {glucosesupa125etBMIsupa30_df.shape}\")"
   ]
  },
  {
   "cell_type": "code",
   "execution_count": 121,
   "id": "0690c6fe-a0e1-4484-aa73-01879ab3e7be",
   "metadata": {},
   "outputs": [
    {
     "name": "stdout",
     "output_type": "stream",
     "text": [
      "\n",
      "Quelques valeurs de 'Glucose' et 'BMI' dans le résultat:\n",
      "    Glucose   BMI\n",
      "0       148  33.6\n",
      "4       137  43.1\n",
      "8       197  30.5\n",
      "11      168  38.0\n",
      "13      189  30.1\n"
     ]
    }
   ],
   "source": [
    "# Vérifier les valeurs de Glucose et BMI dans le résultat (optionnel)\n",
    "# Remplacer 'Glucose' et 'BMI' par les vrais noms si différents\n",
    "glucose_col_name = data_df.columns[1] # Ex: 'Glucose'\n",
    "bmi_col_name = data_df.columns[5]     # Ex: 'BMI'\n",
    "print(f\"\\nQuelques valeurs de '{glucose_col_name}' et '{bmi_col_name}' dans le résultat:\")\n",
    "print(glucosesupa125etBMIsupa30_df[[glucose_col_name, bmi_col_name]].head())"
   ]
  },
  {
   "cell_type": "code",
   "execution_count": 122,
   "id": "e45e7ab5-7434-4ded-a42f-4ee0d0f14e89",
   "metadata": {},
   "outputs": [
    {
     "name": "stdout",
     "output_type": "stream",
     "text": [
      "Le nom de la colonne cible (index 8) est : 'Outcome'\n"
     ]
    }
   ],
   "source": [
    "# Assumant que 'glucosesupa125etBMIsupa30_df' est le DataFrame filtré\n",
    "# et 'data_df' est le DataFrame original.\n",
    "\n",
    "# 1. Trouver le nom de la colonne cible (à l'index 8)\n",
    "target_column_name = data_df.columns[8]\n",
    "print(f\"Le nom de la colonne cible (index 8) est : '{target_column_name}'\") # Ex: 'Outcome'"
   ]
  },
  {
   "cell_type": "code",
   "execution_count": 123,
   "id": "6100e5c1-0bc8-4083-82b0-438bac0b55e1",
   "metadata": {},
   "outputs": [],
   "source": [
    "# 2. Sélectionner cette colonne dans le DataFrame *filtré*\n",
    "target_column_filtered = glucosesupa125etBMIsupa30_df[target_column_name]"
   ]
  },
  {
   "cell_type": "code",
   "execution_count": 124,
   "id": "8b41f412-7378-4efd-9c09-1c8caee82e28",
   "metadata": {},
   "outputs": [],
   "source": [
    "# 3. Calculer la moyenne de cette colonne (qui est la proportion de 1s)\n",
    "proportion_pandas = target_column_filtered.mean()"
   ]
  },
  {
   "cell_type": "code",
   "execution_count": 125,
   "id": "a6c48aee-fc00-464e-988e-2f248c7871ba",
   "metadata": {},
   "outputs": [
    {
     "name": "stdout",
     "output_type": "stream",
     "text": [
      "\n",
      "Proportion de patients diabétiques parmi ceux avec Glucose > 125 ET BMI > 30 : 0.7009\n"
     ]
    }
   ],
   "source": [
    "# Afficher la proportion calculée\n",
    "print(f\"\\nProportion de patients diabétiques parmi ceux avec Glucose > 125 ET BMI > 30 : {proportion_pandas:.4f}\")\n",
    "# Le :.4f formate le nombre à 4 décimales pour une meilleure lisibilité"
   ]
  },
  {
   "cell_type": "code",
   "execution_count": null,
   "id": "b027d1ba-d767-4fdc-a2c6-785220076d29",
   "metadata": {},
   "outputs": [],
   "source": []
  }
 ],
 "metadata": {
  "kernelspec": {
   "display_name": "Python 3 (ipykernel)",
   "language": "python",
   "name": "python3"
  },
  "language_info": {
   "codemirror_mode": {
    "name": "ipython",
    "version": 3
   },
   "file_extension": ".py",
   "mimetype": "text/x-python",
   "name": "python",
   "nbconvert_exporter": "python",
   "pygments_lexer": "ipython3",
   "version": "3.11.5"
  }
 },
 "nbformat": 4,
 "nbformat_minor": 5
}
